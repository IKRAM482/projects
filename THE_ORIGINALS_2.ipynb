{
  "cells": [
    {
      "cell_type": "markdown",
      "source": [
        "DATA CLEANING"
      ],
      "metadata": {
        "id": "nFgGPBpf7h58"
      }
    },
    {
      "cell_type": "markdown",
      "source": [
        "Which include the package called pandas"
      ],
      "metadata": {
        "id": "Y53gDLeO7qsd"
      }
    },
    {
      "cell_type": "markdown",
      "source": [
        "checking null value\n",
        "we have removed null value"
      ],
      "metadata": {
        "id": "YvxlS8qG7xwo"
      }
    },
    {
      "cell_type": "code",
      "source": [
        "import pandas as pd\n",
        "df = pd.read_csv('airline.csv')\n",
        "print(df.isnull)\n",
        "print(df.isnull().sum())"
      ],
      "metadata": {
        "colab": {
          "base_uri": "https://localhost:8080/"
        },
        "id": "Hq_OEVXMOnHK",
        "outputId": "84f9a1b0-dde8-4b19-c0a8-90032e789d87"
      },
      "execution_count": null,
      "outputs": [
        {
          "output_type": "stream",
          "name": "stdout",
          "text": [
            "<bound method DataFrame.isnull of        Name   Airline  Airline_sentiment\n",
            "0          1        1                  1\n",
            "1          2        2                  0\n",
            "2          3        1                  1\n",
            "3          4        3                  1\n",
            "4          5        4                 -1\n",
            "...      ...      ...                ...\n",
            "50422     10        1                  1\n",
            "50423      2        2                  0\n",
            "50424     10        1                  1\n",
            "50425      5        4                 -1\n",
            "50426      7        3                 -1\n",
            "\n",
            "[50427 rows x 3 columns]>\n",
            "Name                 0\n",
            "Airline              0\n",
            "Airline_sentiment    0\n",
            "dtype: int64\n"
          ]
        }
      ]
    },
    {
      "cell_type": "markdown",
      "source": [
        "checking for duplicate value"
      ],
      "metadata": {
        "id": "Hw57Rylt9Fu9"
      }
    },
    {
      "cell_type": "code",
      "source": [
        "import pandas as pd\n",
        "df = pd.read_csv('airline.csv')\n",
        "print(df.drop_duplicates())"
      ],
      "metadata": {
        "colab": {
          "base_uri": "https://localhost:8080/"
        },
        "id": "5MbjgrOe9L2h",
        "outputId": "9cd60450-cab7-4003-eba5-693dbd4b7d90"
      },
      "execution_count": null,
      "outputs": [
        {
          "output_type": "stream",
          "name": "stdout",
          "text": [
            "      Name   Airline  Airline_sentiment\n",
            "0         1        1                  1\n",
            "1         2        2                  0\n",
            "2         3        1                  1\n",
            "3         4        3                  1\n",
            "4         5        4                 -1\n",
            "5         6        3                  0\n",
            "6         7        3                 -1\n",
            "7         8        4                 -1\n",
            "8         9        5                  0\n",
            "17       10        1                  1\n",
            "18       11        5                  0\n",
            "27       12        5                 -1\n",
            "28       15        2                  1\n",
            "29       16        6                  1\n",
            "30       18        1                  0\n",
            "36       19        3                  1\n",
            "39       13        3                  0\n",
            "40       14        6                 -1\n",
            "44       17        2                 -1\n",
            "55       20        2                 -1\n",
            "1991      8        3                 -1\n"
          ]
        }
      ]
    },
    {
      "cell_type": "markdown",
      "source": [
        "then we using the machine learning algorithm called Random forest which is pred 100% accuarcy"
      ],
      "metadata": {
        "id": "x4ozFD75_Vg9"
      }
    },
    {
      "cell_type": "markdown",
      "source": [
        "This on iloc"
      ],
      "metadata": {
        "id": "MBiISQaeCHDu"
      }
    },
    {
      "cell_type": "code",
      "source": [
        "import numpy as np\n",
        "import pandas as pd\n",
        "import matplotlib.pyplot as plt\n",
        "from sklearn.model_selection import train_test_split\n",
        "from sklearn.ensemble import RandomForestClassifier\n",
        "df = pd.read_csv('airline.csv')\n",
        "x = df.iloc[:,0:1]\n",
        "y = df.iloc[:, 2]\n",
        "x_train,x_test,y_train,y_test = train_test_split(x, y, test_size=0.25, random_state=42)\n",
        "clf=RandomForestClassifier(n_estimators=100)\n",
        "clf.fit(x_train,y_train)\n",
        "y_pred=clf.predict(x_test)\n",
        "print(clf.score(x_test,y_test))"
      ],
      "metadata": {
        "colab": {
          "base_uri": "https://localhost:8080/"
        },
        "id": "NmEYsY4H8hA2",
        "outputId": "11e46c4b-7e0f-4447-8a45-dbebeec181c4"
      },
      "execution_count": null,
      "outputs": [
        {
          "output_type": "stream",
          "name": "stdout",
          "text": [
            "1.0\n"
          ]
        }
      ]
    },
    {
      "cell_type": "code",
      "source": [
        "import numpy as np\n",
        "import pandas as pd\n",
        "import matplotlib.pyplot as plt\n",
        "from sklearn.model_selection import train_test_split\n",
        "from sklearn.ensemble import RandomForestClassifier\n",
        "from sklearn import metrics\n",
        "df = pd.read_csv('airline.csv')\n",
        "x = df.iloc[:,0:1]\n",
        "y = df.iloc[:, 2]\n",
        "print(x_test)\n",
        "x_train,x_test,y_train,y_test = train_test_split(x, y, test_size=0.25, random_state=42)\n",
        "clf=RandomForestClassifier(n_estimators=100)\n",
        "clf.fit(x_train,y_train)\n",
        "y_pred=clf.predict(x_test)\n",
        "y_pred\n",
        "print(y_pred)"
      ],
      "metadata": {
        "colab": {
          "base_uri": "https://localhost:8080/"
        },
        "id": "TAHyz5_hBaSa",
        "outputId": "f2ec1ad1-4347-4e40-afdc-e91e3579d0d8"
      },
      "execution_count": null,
      "outputs": [
        {
          "output_type": "stream",
          "name": "stdout",
          "text": [
            "       Name \n",
            "24521     18\n",
            "40515     16\n",
            "25036     18\n",
            "48676      2\n",
            "34106      4\n",
            "...      ...\n",
            "46245      6\n",
            "47641     10\n",
            "36179      7\n",
            "33025      3\n",
            "2714       6\n",
            "\n",
            "[12607 rows x 1 columns]\n",
            "[ 0  1  0 ... -1  1  0]\n"
          ]
        }
      ]
    },
    {
      "cell_type": "markdown",
      "source": [
        "This we are using in df drop"
      ],
      "metadata": {
        "id": "VN7VQFQlCTK0"
      }
    },
    {
      "cell_type": "code",
      "source": [
        "import numpy as np\n",
        "import pandas as pd\n",
        "import matplotlib.pyplot as plt\n",
        "from sklearn.model_selection import train_test_split\n",
        "from sklearn.ensemble import RandomForestClassifier\n",
        "from sklearn import metrics\n",
        "df = pd.read_csv('airline.csv')\n",
        "x=df.drop('Airline_sentiment',axis=1)\n",
        "y=df['Airline_sentiment']\n",
        "x_train,x_test,y_train,y_test = train_test_split(x, y, test_size=0.25, random_state=42)\n",
        "clf=RandomForestClassifier(n_estimators=100)\n",
        "clf.fit(x_train,y_train)\n",
        "y_pred=clf.predict(x_test)\n",
        "print(x_test)\n",
        "print(y_pred)\n",
        "print(clf.score(x_test,y_test))"
      ],
      "metadata": {
        "colab": {
          "base_uri": "https://localhost:8080/"
        },
        "id": "igII_dNUB2Do",
        "outputId": "324b4e45-5dfc-4232-c0c6-e6cf449b7d8a"
      },
      "execution_count": null,
      "outputs": [
        {
          "output_type": "stream",
          "name": "stdout",
          "text": [
            "       Name   Airline\n",
            "24521     18        1\n",
            "40515     16        6\n",
            "25036     18        1\n",
            "48676      2        2\n",
            "34106      4        3\n",
            "...      ...      ...\n",
            "46245      6        3\n",
            "47641     10        1\n",
            "36179      7        3\n",
            "33025      3        1\n",
            "2714       6        3\n",
            "\n",
            "[12607 rows x 2 columns]\n",
            "[ 0  1  0 ... -1  1  0]\n",
            "1.0\n"
          ]
        }
      ]
    },
    {
      "cell_type": "markdown",
      "source": [
        "Now we are using different machine algorithm"
      ],
      "metadata": {
        "id": "hX-M1EQyCtht"
      }
    },
    {
      "cell_type": "markdown",
      "source": [
        "1.navie bayes"
      ],
      "metadata": {
        "id": "q4m4HfJ4DCgb"
      }
    },
    {
      "cell_type": "code",
      "source": [
        "import numpy as np\n",
        "import pandas as pd\n",
        "from sklearn.model_selection import train_test_split\n",
        "from sklearn.naive_bayes import GaussianNB\n",
        "from sklearn.metrics import accuracy_score\n",
        "import matplotlib.pyplot as plt\n",
        "import seaborn as sns\n",
        "from google.colab import files\n",
        "df = pd.read_csv('airline.csv')\n",
        "df.head()\n",
        "x=df.drop('Airline_sentiment',axis=1)\n",
        "y=df['Airline_sentiment']\n",
        "x_train,x_test,y_train,y_test = train_test_split(x,y,test_size=0.25, random_state=42)\n",
        "model=GaussianNB()\n",
        "model.fit(x_train,y_train)\n",
        "y_pred = model.predict(x_test)\n",
        "print(y_pred)\n",
        "a= model.score(x_test,y_test)\n",
        "print(\"accuracy is \", a)"
      ],
      "metadata": {
        "colab": {
          "base_uri": "https://localhost:8080/"
        },
        "id": "R2rvirrOChJA",
        "outputId": "b736ec04-6a4f-4678-8022-bd1ed0774079"
      },
      "execution_count": null,
      "outputs": [
        {
          "output_type": "stream",
          "name": "stdout",
          "text": [
            "[ 1 -1  1 ... -1  1  0]\n",
            "accuracy is  0.6147378440548902\n"
          ]
        }
      ]
    },
    {
      "cell_type": "markdown",
      "source": [
        "2.svm(support vector mission)"
      ],
      "metadata": {
        "id": "cMuWv3B8DQDP"
      }
    },
    {
      "cell_type": "code",
      "source": [
        "import numpy as np\n",
        "import matplotlib.pyplot as plt\n",
        "import pandas as pd\n",
        "dataset = pd.read_csv('airline.csv')\n",
        "X=dataset.drop('Airline_sentiment',axis=1)\n",
        "y=dataset['Airline_sentiment']\n",
        "from google.colab import files\n",
        "from sklearn.model_selection import train_test_split\n",
        "X_train, X_test, y_train, y_test = train_test_split(X, y, test_size = 0.3, random_state = 35)\n",
        "from sklearn.preprocessing import StandardScaler\n",
        "sc = StandardScaler()\n",
        "X_train = sc.fit_transform(X_train)\n",
        "X_test = sc.transform(X_test)\n",
        "from sklearn.svm import SVC\n",
        "classifier = SVC(kernel = 'linear', random_state = 35)\n",
        "classifier.fit(X_train, y_train)\n",
        "y_pred = classifier.predict(X_test)\n",
        "print(classifier.score(X_test,y_test))"
      ],
      "metadata": {
        "colab": {
          "base_uri": "https://localhost:8080/"
        },
        "id": "9NWsk3C5DV__",
        "outputId": "65e48a60-3477-4c2a-86a4-f00cf0fe4723"
      },
      "execution_count": null,
      "outputs": [
        {
          "output_type": "stream",
          "name": "stdout",
          "text": [
            "0.5192676317007072\n"
          ]
        }
      ]
    },
    {
      "cell_type": "markdown",
      "source": [
        "3.Decision Tree"
      ],
      "metadata": {
        "id": "vG_WOWzuKbrL"
      }
    },
    {
      "cell_type": "code",
      "source": [
        "import numpy as np\n",
        "import matplotlib.pyplot as plt\n",
        "import pandas as pd\n",
        "from sklearn.tree import DecisionTreeClassifier\n",
        "df = pd.read_csv('airline.csv')\n",
        "X=df.drop('Airline_sentiment',axis=1)\n",
        "y=df['Airline_sentiment']\n",
        "from sklearn.model_selection import train_test_split\n",
        "X_train, X_test, y_train, y_test = train_test_split(X, y, test_size = 0.1, random_state = 45)\n",
        "classifier = DecisionTreeClassifier(criterion = 'entropy', random_state = 45)\n",
        "classifier.fit(X,y)\n",
        "print(classifier.predict(X))\n",
        "print(classifier.score(X_test,y_test))"
      ],
      "metadata": {
        "colab": {
          "base_uri": "https://localhost:8080/"
        },
        "id": "edSV60V4H4JT",
        "outputId": "6655485b-c4e5-4e4e-becb-3a1487d6098c"
      },
      "execution_count": null,
      "outputs": [
        {
          "output_type": "stream",
          "name": "stdout",
          "text": [
            "[ 1  0  1 ...  1 -1 -1]\n",
            "1.0\n"
          ]
        }
      ]
    },
    {
      "cell_type": "code",
      "source": [
        "#Import libraries\n",
        "import pandas as pd\n",
        "\n",
        "import matplotlib.pyplot as plt\n",
        "from sklearn.cluster import KMeans\n",
        "#import the dataset\n",
        "from sklearn import datasets\n",
        "df = pd.read_csv('airline.csv')\n",
        "x = df.iloc[:, [0,1,2]].values\n",
        "kmeans5 = KMeans(n_clusters=3)\n",
        "y_kmeans5 = kmeans5.fit_predict(x)\n",
        "kmeans5.cluster_centers_\n",
        "plt.scatter(x[:,0],x[:,1],c=y_kmeans5,cmap='rainbow')"
      ],
      "metadata": {
        "id": "yuV47aHDV0qj",
        "colab": {
          "base_uri": "https://localhost:8080/",
          "height": 282
        },
        "outputId": "36b94b0f-2eff-4657-8af2-613849748b16"
      },
      "execution_count": null,
      "outputs": [
        {
          "output_type": "execute_result",
          "data": {
            "text/plain": [
              "<matplotlib.collections.PathCollection at 0x7ff72ff88810>"
            ]
          },
          "metadata": {},
          "execution_count": 5
        },
        {
          "output_type": "display_data",
          "data": {
            "text/plain": [
              "<Figure size 432x288 with 1 Axes>"
            ],
            "image/png": "[encoded data removed]"
          },
          "metadata": {
            "needs_background": "light"
          }
        }
      ]
    },
    {
      "cell_type": "markdown",
      "source": [
        "Lung cancer\n",
        "\n",
        "checking for null value"
      ],
      "metadata": {
        "id": "sG6ZrP6PgYeu"
      }
    },
    {
      "cell_type": "code",
      "source": [
        "import pandas as pd\n",
        "df = pd.read_csv('cancer.csv')\n",
        "print(df.isnull)\n",
        "print(df.isnull().sum())"
      ],
      "metadata": {
        "colab": {
          "base_uri": "https://localhost:8080/"
        },
        "id": "-AdQAvrNRYRF",
        "outputId": "97ebd2d2-293a-4b27-aef5-62ce4039861e"
      },
      "execution_count": null,
      "outputs": [
        {
          "output_type": "stream",
          "name": "stdout",
          "text": [
            "<bound method DataFrame.isnull of      GENDER  AGE  SMOKING  YELLOW_FINGERS  ANXIETY  PEER_PRESSURE  \\\n",
            "0         1   69        1               2        2              1   \n",
            "1         1   74        2               1        1              1   \n",
            "2         0   59        1               1        1              2   \n",
            "3         1   63        2               2        2              1   \n",
            "4         0   63        1               2        1              1   \n",
            "..      ...  ...      ...             ...      ...            ...   \n",
            "304       0   56        1               1        1              2   \n",
            "305       1   70        2               1        1              1   \n",
            "306       1   58        2               1        1              1   \n",
            "307       1   67        2               1        2              1   \n",
            "308       1   62        1               1        1              2   \n",
            "\n",
            "     CHRONIC DISEASE  FATIGUE   ALLERGY   WHEEZING  ALCOHOL CONSUMING  \\\n",
            "0                  1         2         1         2                  2   \n",
            "1                  2         2         2         1                  1   \n",
            "2                  1         2         1         2                  1   \n",
            "3                  1         1         1         1                  2   \n",
            "4                  1         1         1         2                  1   \n",
            "..               ...       ...       ...       ...                ...   \n",
            "304                2         2         1         1                  2   \n",
            "305                1         2         2         2                  2   \n",
            "306                1         1         2         2                  2   \n",
            "307                1         2         2         1                  2   \n",
            "308                1         2         2         2                  2   \n",
            "\n",
            "     COUGHING  SHORTNESS OF BREATH  SWALLOWING DIFFICULTY  CHEST PAIN  \\\n",
            "0           2                    2                      2           2   \n",
            "1           1                    2                      2           2   \n",
            "2           2                    2                      1           2   \n",
            "3           1                    1                      2           2   \n",
            "4           2                    2                      1           1   \n",
            "..        ...                  ...                    ...         ...   \n",
            "304         2                    2                      2           1   \n",
            "305         2                    2                      1           2   \n",
            "306         2                    1                      1           2   \n",
            "307         2                    2                      1           2   \n",
            "308         1                    1                      2           1   \n",
            "\n",
            "     LUNG_CANCER  \n",
            "0              2  \n",
            "1              2  \n",
            "2              1  \n",
            "3              1  \n",
            "4              1  \n",
            "..           ...  \n",
            "304            2  \n",
            "305            2  \n",
            "306            2  \n",
            "307            2  \n",
            "308            2  \n",
            "\n",
            "[309 rows x 16 columns]>\n",
            "GENDER                   0\n",
            "AGE                      0\n",
            "SMOKING                  0\n",
            "YELLOW_FINGERS           0\n",
            "ANXIETY                  0\n",
            "PEER_PRESSURE            0\n",
            "CHRONIC DISEASE          0\n",
            "FATIGUE                  0\n",
            "ALLERGY                  0\n",
            "WHEEZING                 0\n",
            "ALCOHOL CONSUMING        0\n",
            "COUGHING                 0\n",
            "SHORTNESS OF BREATH      0\n",
            "SWALLOWING DIFFICULTY    0\n",
            "CHEST PAIN               0\n",
            "LUNG_CANCER              0\n",
            "dtype: int64\n"
          ]
        }
      ]
    },
    {
      "cell_type": "markdown",
      "source": [
        "checking for duplicate"
      ],
      "metadata": {
        "id": "Z8BHs3NbhQ2X"
      }
    },
    {
      "cell_type": "code",
      "source": [
        "import pandas as pd\n",
        "df = pd.read_csv('cancer.csv')\n",
        "print(df.drop_duplicates())"
      ],
      "metadata": {
        "colab": {
          "base_uri": "https://localhost:8080/"
        },
        "id": "95ilIuRThWWy",
        "outputId": "3f6f286f-d96b-43eb-ecd5-c029cc4d49c0"
      },
      "execution_count": null,
      "outputs": [
        {
          "output_type": "stream",
          "name": "stdout",
          "text": [
            "     GENDER  AGE  SMOKING  YELLOW_FINGERS  ANXIETY  PEER_PRESSURE  \\\n",
            "0         1   69        1               2        2              1   \n",
            "1         1   74        2               1        1              1   \n",
            "2         0   59        1               1        1              2   \n",
            "3         1   63        2               2        2              1   \n",
            "4         0   63        1               2        1              1   \n",
            "..      ...  ...      ...             ...      ...            ...   \n",
            "279       0   59        1               2        2              2   \n",
            "280       0   59        2               1        1              1   \n",
            "281       1   55        2               1        1              1   \n",
            "282       1   46        1               2        2              1   \n",
            "283       1   60        1               2        2              1   \n",
            "\n",
            "     CHRONIC DISEASE  FATIGUE   ALLERGY   WHEEZING  ALCOHOL CONSUMING  \\\n",
            "0                  1         2         1         2                  2   \n",
            "1                  2         2         2         1                  1   \n",
            "2                  1         2         1         2                  1   \n",
            "3                  1         1         1         1                  2   \n",
            "4                  1         1         1         2                  1   \n",
            "..               ...       ...       ...       ...                ...   \n",
            "279                1         1         2         2                  1   \n",
            "280                2         2         2         1                  1   \n",
            "281                1         2         2         1                  1   \n",
            "282                1         1         1         1                  1   \n",
            "283                1         2         1         2                  2   \n",
            "\n",
            "     COUGHING  SHORTNESS OF BREATH  SWALLOWING DIFFICULTY  CHEST PAIN  \\\n",
            "0           2                    2                      2           2   \n",
            "1           1                    2                      2           2   \n",
            "2           2                    2                      1           2   \n",
            "3           1                    1                      2           2   \n",
            "4           2                    2                      1           1   \n",
            "..        ...                  ...                    ...         ...   \n",
            "279         2                    1                      2           1   \n",
            "280         1                    2                      1           1   \n",
            "281         1                    2                      1           2   \n",
            "282         1                    1                      2           2   \n",
            "283         2                    2                      2           2   \n",
            "\n",
            "     LUNG_CANCER  \n",
            "0              2  \n",
            "1              2  \n",
            "2              1  \n",
            "3              1  \n",
            "4              1  \n",
            "..           ...  \n",
            "279            2  \n",
            "280            1  \n",
            "281            1  \n",
            "282            1  \n",
            "283            2  \n",
            "\n",
            "[276 rows x 16 columns]\n"
          ]
        }
      ]
    },
    {
      "cell_type": "markdown",
      "source": [
        "using machine algorithm called navie bayes"
      ],
      "metadata": {
        "id": "_7_AIXQ7hkIY"
      }
    },
    {
      "cell_type": "code",
      "source": [
        "import numpy as np\n",
        "import pandas as pd\n",
        "from sklearn.model_selection import train_test_split\n",
        "from sklearn.naive_bayes import GaussianNB\n",
        "from sklearn.metrics import accuracy_score\n",
        "from google.colab import files\n",
        "uploaded = files.upload()\n",
        "df = pd.read_csv(\"/content/cancer.csv\")\n",
        "df.head()\n",
        "x=df.drop('LUNG_CANCER',axis=1)\n",
        "y=df['LUNG_CANCER']\n",
        "x_train,x_test,y_train,y_test = train_test_split(x,y,test_size=0.25,random_state=42)\n",
        "model=GaussianNB()\n",
        "model.fit(x_train,y_train)\n",
        "y_pred = model.predict(x_test)\n",
        "y_pred\n",
        "print(x_test)\n",
        "print(model.score(x_test,y_test))"
      ],
      "metadata": {
        "colab": {
          "base_uri": "https://localhost:8080/",
          "height": 785
        },
        "id": "1G9fZysKdyCp",
        "outputId": "4a6d597a-58bb-4dad-c58c-c9dd305ad86a"
      },
      "execution_count": null,
      "outputs": [
        {
          "output_type": "display_data",
          "data": {
            "text/plain": [
              "<IPython.core.display.HTML object>"
            ],
            "text/html": [
              "\n",
              "     <input type=\"file\" id=\"files-09fe4535-eb47-4b5e-bb27-195aa196d6ba\" name=\"files[]\" multiple disabled\n",
              "        style=\"border:none\" />\n",
              "     <output id=\"result-09fe4535-eb47-4b5e-bb27-195aa196d6ba\">\n",
              "      Upload widget is only available when the cell has been executed in the\n",
              "      current browser session. Please rerun this cell to enable.\n",
              "      </output>\n",
              "      <script>// Copyright 2017 Google LLC\n",
              "//\n",
              "// Licensed under the Apache License, Version 2.0 (the \"License\");\n",
              "// you may not use this file except in compliance with the License.\n",
              "// You may obtain a copy of the License at\n",
              "//\n",
              "//      http://www.apache.org/licenses/LICENSE-2.0\n",
              "//\n",
              "// Unless required by applicable law or agreed to in writing, software\n",
              "// distributed under the License is distributed on an \"AS IS\" BASIS,\n",
              "// WITHOUT WARRANTIES OR CONDITIONS OF ANY KIND, either express or implied.\n",
              "// See the License for the specific language governing permissions and\n",
              "// limitations under the License.\n",
              "\n",
              "/**\n",
              " * @fileoverview Helpers for google.colab Python module.\n",
              " */\n",
              "(function(scope) {\n",
              "function span(text, styleAttributes = {}) {\n",
              "  const element = document.createElement('span');\n",
              "  element.textContent = text;\n",
              "  for (const key of Object.keys(styleAttributes)) {\n",
              "    element.style[key] = styleAttributes[key];\n",
              "  }\n",
              "  return element;\n",
              "}\n",
              "\n",
              "// Max number of bytes which will be uploaded at a time.\n",
              "const MAX_PAYLOAD_SIZE = 100 * 1024;\n",
              "\n",
              "function _uploadFiles(inputId, outputId) {\n",
              "  const steps = uploadFilesStep(inputId, outputId);\n",
              "  const outputElement = document.getElementById(outputId);\n",
              "  // Cache steps on the outputElement to make it available for the next call\n",
              "  // to uploadFilesContinue from Python.\n",
              "  outputElement.steps = steps;\n",
              "\n",
              "  return _uploadFilesContinue(outputId);\n",
              "}\n",
              "\n",
              "// This is roughly an async generator (not supported in the browser yet),\n",
              "// where there are multiple asynchronous steps and the Python side is going\n",
              "// to poll for completion of each step.\n",
              "// This uses a Promise to block the python side on completion of each step,\n",
              "// then passes the result of the previous step as the input to the next step.\n",
              "function _uploadFilesContinue(outputId) {\n",
              "  const outputElement = document.getElementById(outputId);\n",
              "  const steps = outputElement.steps;\n",
              "\n",
              "  const next = steps.next(outputElement.lastPromiseValue);\n",
              "  return Promise.resolve(next.value.promise).then((value) => {\n",
              "    // Cache the last promise value to make it available to the next\n",
              "    // step of the generator.\n",
              "    outputElement.lastPromiseValue = value;\n",
              "    return next.value.response;\n",
              "  });\n",
              "}\n",
              "\n",
              "/**\n",
              " * Generator function which is called between each async step of the upload\n",
              " * process.\n",
              " * @param {string} inputId Element ID of the input file picker element.\n",
              " * @param {string} outputId Element ID of the output display.\n",
              " * @return {!Iterable<!Object>} Iterable of next steps.\n",
              " */\n",
              "function* uploadFilesStep(inputId, outputId) {\n",
              "  const inputElement = document.getElementById(inputId);\n",
              "  inputElement.disabled = false;\n",
              "\n",
              "  const outputElement = document.getElementById(outputId);\n",
              "  outputElement.innerHTML = '';\n",
              "\n",
              "  const pickedPromise = new Promise((resolve) => {\n",
              "    inputElement.addEventListener('change', (e) => {\n",
              "      resolve(e.target.files);\n",
              "    });\n",
              "  });\n",
              "\n",
              "  const cancel = document.createElement('button');\n",
              "  inputElement.parentElement.appendChild(cancel);\n",
              "  cancel.textContent = 'Cancel upload';\n",
              "  const cancelPromise = new Promise((resolve) => {\n",
              "    cancel.onclick = () => {\n",
              "      resolve(null);\n",
              "    };\n",
              "  });\n",
              "\n",
              "  // Wait for the user to pick the files.\n",
              "  const files = yield {\n",
              "    promise: Promise.race([pickedPromise, cancelPromise]),\n",
              "    response: {\n",
              "      action: 'starting',\n",
              "    }\n",
              "  };\n",
              "\n",
              "  cancel.remove();\n",
              "\n",
              "  // Disable the input element since further picks are not allowed.\n",
              "  inputElement.disabled = true;\n",
              "\n",
              "  if (!files) {\n",
              "    return {\n",
              "      response: {\n",
              "        action: 'complete',\n",
              "      }\n",
              "    };\n",
              "  }\n",
              "\n",
              "  for (const file of files) {\n",
              "    const li = document.createElement('li');\n",
              "    li.append(span(file.name, {fontWeight: 'bold'}));\n",
              "    li.append(span(\n",
              "        `(${file.type || 'n/a'}) - ${file.size} bytes, ` +\n",
              "        `last modified: ${\n",
              "            file.lastModifiedDate ? file.lastModifiedDate.toLocaleDateString() :\n",
              "                                    'n/a'} - `));\n",
              "    const percent = span('0% done');\n",
              "    li.appendChild(percent);\n",
              "\n",
              "    outputElement.appendChild(li);\n",
              "\n",
              "    const fileDataPromise = new Promise((resolve) => {\n",
              "      const reader = new FileReader();\n",
              "      reader.onload = (e) => {\n",
              "        resolve(e.target.result);\n",
              "      };\n",
              "      reader.readAsArrayBuffer(file);\n",
              "    });\n",
              "    // Wait for the data to be ready.\n",
              "    let fileData = yield {\n",
              "      promise: fileDataPromise,\n",
              "      response: {\n",
              "        action: 'continue',\n",
              "      }\n",
              "    };\n",
              "\n",
              "    // Use a chunked sending to avoid message size limits. See b/62115660.\n",
              "    let position = 0;\n",
              "    do {\n",
              "      const length = Math.min(fileData.byteLength - position, MAX_PAYLOAD_SIZE);\n",
              "      const chunk = new Uint8Array(fileData, position, length);\n",
              "      position += length;\n",
              "\n",
              "      const base64 = btoa(String.fromCharCode.apply(null, chunk));\n",
              "      yield {\n",
              "        response: {\n",
              "          action: 'append',\n",
              "          file: file.name,\n",
              "          data: base64,\n",
              "        },\n",
              "      };\n",
              "\n",
              "      let percentDone = fileData.byteLength === 0 ?\n",
              "          100 :\n",
              "          Math.round((position / fileData.byteLength) * 100);\n",
              "      percent.textContent = `${percentDone}% done`;\n",
              "\n",
              "    } while (position < fileData.byteLength);\n",
              "  }\n",
              "\n",
              "  // All done.\n",
              "  yield {\n",
              "    response: {\n",
              "      action: 'complete',\n",
              "    }\n",
              "  };\n",
              "}\n",
              "\n",
              "scope.google = scope.google || {};\n",
              "scope.google.colab = scope.google.colab || {};\n",
              "scope.google.colab._files = {\n",
              "  _uploadFiles,\n",
              "  _uploadFilesContinue,\n",
              "};\n",
              "})(self);\n",
              "</script> "
            ]
          },
          "metadata": {}
        },
        {
          "output_type": "stream",
          "name": "stdout",
          "text": [
            "Saving cancer.csv to cancer (1).csv\n",
            "     GENDER  AGE  SMOKING  YELLOW_FINGERS  ANXIETY  PEER_PRESSURE  \\\n",
            "288       0   61        1               2        2              2   \n",
            "9         1   53        2               2        2              2   \n",
            "57        1   73        1               1        1              1   \n",
            "60        1   70        1               2        1              2   \n",
            "25        1   65        1               2        2              1   \n",
            "..      ...  ...      ...             ...      ...            ...   \n",
            "30        0   57        2               2        1              1   \n",
            "22        0   21        2               1        1              1   \n",
            "262       0   67        1               2        1              1   \n",
            "56        0   63        1               2        1              2   \n",
            "148       1   70        2               1        1              1   \n",
            "\n",
            "     CHRONIC DISEASE  FATIGUE   ALLERGY   WHEEZING  ALCOHOL CONSUMING  \\\n",
            "288                1         1         2         2                  1   \n",
            "9                  2         1         2         1                  2   \n",
            "57                 2         1         2         1                  2   \n",
            "60                 2         2         2         2                  2   \n",
            "25                 1         2         1         2                  2   \n",
            "..               ...       ...       ...       ...                ...   \n",
            "30                 1         1         1         1                  1   \n",
            "22                 2         2         2         1                  1   \n",
            "262                1         1         1         2                  1   \n",
            "56                 1         2         1         1                  1   \n",
            "148                1         2         2         2                  2   \n",
            "\n",
            "     COUGHING  SHORTNESS OF BREATH  SWALLOWING DIFFICULTY  CHEST PAIN  \n",
            "288         2                    1                      2           1  \n",
            "9           1                    1                      2           2  \n",
            "57          2                    2                      2           2  \n",
            "60          2                    1                      2           2  \n",
            "25          2                    2                      2           2  \n",
            "..        ...                  ...                    ...         ...  \n",
            "30          1                    2                      1           1  \n",
            "22          1                    2                      1           1  \n",
            "262         2                    2                      1           1  \n",
            "56          2                    2                      1           2  \n",
            "148         2                    2                      1           2  \n",
            "\n",
            "[78 rows x 15 columns]\n",
            "0.9743589743589743\n"
          ]
        }
      ]
    },
    {
      "cell_type": "markdown",
      "source": [
        "we using in different algorithm\n"
      ],
      "metadata": {
        "id": "o7ZP2pNaiOqQ"
      }
    },
    {
      "cell_type": "markdown",
      "source": [
        "1.svm(support vector mission)"
      ],
      "metadata": {
        "id": "BU8eTC7-iXfo"
      }
    },
    {
      "cell_type": "code",
      "source": [
        "import numpy as np\n",
        "import matplotlib.pyplot as plt\n",
        "import pandas as pd\n",
        "dataset = pd.read_csv('/content/cancer.csv')\n",
        "X=dataset.drop('LUNG_CANCER',axis=1)\n",
        "y=dataset['LUNG_CANCER']\n",
        "from google.colab import files\n",
        "from sklearn.model_selection import train_test_split\n",
        "X_train, X_test, y_train, y_test = train_test_split(X, y, test_size = 0.3, random_state = 35)\n",
        "from sklearn.preprocessing import StandardScaler\n",
        "sc = StandardScaler()\n",
        "X_train = sc.fit_transform(X_train)\n",
        "X_test = sc.transform(X_test)\n",
        "from sklearn.svm import SVC\n",
        "classifier = SVC(kernel = 'linear', random_state = 35)\n",
        "classifier.fit(X_train, y_train)\n",
        "y_pred = classifier.predict(X_test)\n",
        "print(classifier.score(X_test,y_test))"
      ],
      "metadata": {
        "colab": {
          "base_uri": "https://localhost:8080/"
        },
        "id": "613-x5yfiFMb",
        "outputId": "a0933c4e-ebad-4ba4-cdb2-5e537b708675"
      },
      "execution_count": null,
      "outputs": [
        {
          "output_type": "stream",
          "name": "stdout",
          "text": [
            "0.8817204301075269\n"
          ]
        }
      ]
    },
    {
      "cell_type": "markdown",
      "source": [
        "2. Random forest\n"
      ],
      "metadata": {
        "id": "ZFu7WF8SjEL3"
      }
    },
    {
      "cell_type": "code",
      "source": [
        "import numpy as np\n",
        "import pandas as pd\n",
        "import matplotlib.pyplot as plt\n",
        "from sklearn.model_selection import train_test_split\n",
        "from sklearn.ensemble import RandomForestClassifier\n",
        "df = pd.read_csv('/content/cancer.csv')\n",
        "x=df.drop('LUNG_CANCER',axis=1)\n",
        "y=df['LUNG_CANCER']\n",
        "print(x_test)\n",
        "x_train,x_test,y_train,y_test = train_test_split(x, y, test_size=0.25, random_state=42)\n",
        "clf=RandomForestClassifier(n_estimators=100)\n",
        "clf.fit(x_train,y_train)\n",
        "y_pred=clf.predict(x_test)\n",
        "print(y_pred)\n",
        "print(clf.score(x_test,y_test))"
      ],
      "metadata": {
        "colab": {
          "base_uri": "https://localhost:8080/"
        },
        "id": "-KG7ppAjJUCb",
        "outputId": "6ceeb802-92ca-4c3b-d185-60463c17c6b9"
      },
      "execution_count": null,
      "outputs": [
        {
          "output_type": "stream",
          "name": "stdout",
          "text": [
            "     GENDER  AGE  SMOKING  YELLOW_FINGERS  ANXIETY  PEER_PRESSURE  \\\n",
            "288       0   61        1               2        2              2   \n",
            "9         1   53        2               2        2              2   \n",
            "57        1   73        1               1        1              1   \n",
            "60        1   70        1               2        1              2   \n",
            "25        1   65        1               2        2              1   \n",
            "..      ...  ...      ...             ...      ...            ...   \n",
            "30        0   57        2               2        1              1   \n",
            "22        0   21        2               1        1              1   \n",
            "262       0   67        1               2        1              1   \n",
            "56        0   63        1               2        1              2   \n",
            "148       1   70        2               1        1              1   \n",
            "\n",
            "     CHRONIC DISEASE  FATIGUE   ALLERGY   WHEEZING  ALCOHOL CONSUMING  \\\n",
            "288                1         1         2         2                  1   \n",
            "9                  2         1         2         1                  2   \n",
            "57                 2         1         2         1                  2   \n",
            "60                 2         2         2         2                  2   \n",
            "25                 1         2         1         2                  2   \n",
            "..               ...       ...       ...       ...                ...   \n",
            "30                 1         1         1         1                  1   \n",
            "22                 2         2         2         1                  1   \n",
            "262                1         1         1         2                  1   \n",
            "56                 1         2         1         1                  1   \n",
            "148                1         2         2         2                  2   \n",
            "\n",
            "     COUGHING  SHORTNESS OF BREATH  SWALLOWING DIFFICULTY  CHEST PAIN  \n",
            "288         2                    1                      2           1  \n",
            "9           1                    1                      2           2  \n",
            "57          2                    2                      2           2  \n",
            "60          2                    1                      2           2  \n",
            "25          2                    2                      2           2  \n",
            "..        ...                  ...                    ...         ...  \n",
            "30          1                    2                      1           1  \n",
            "22          1                    2                      1           1  \n",
            "262         2                    2                      1           1  \n",
            "56          2                    2                      1           2  \n",
            "148         2                    2                      1           2  \n",
            "\n",
            "[78 rows x 15 columns]\n",
            "[2 2 2 2 2 2 2 2 2 2 2 2 2 2 2 2 2 2 2 2 1 2 2 2 2 2 2 2 2 2 2 2 2 2 2 2 2\n",
            " 2 2 2 2 2 2 2 2 2 2 2 1 2 2 2 2 2 2 2 2 2 2 2 2 2 2 2 2 2 2 2 2 2 2 2 2 1\n",
            " 1 1 2 2]\n",
            "0.9743589743589743\n"
          ]
        }
      ]
    },
    {
      "cell_type": "markdown",
      "source": [
        "3.Decision Tree"
      ],
      "metadata": {
        "id": "fzNymezmKeoR"
      }
    },
    {
      "cell_type": "code",
      "source": [
        "import numpy as np\n",
        "import pandas as pd\n",
        "import matplotlib.pyplot as plt\n",
        "from sklearn.model_selection import train_test_split\n",
        "from sklearn.ensemble import RandomForestClassifier\n",
        "df = pd.read_csv('/content/cancer.csv')\n",
        "x=df.drop('LUNG_CANCER',axis=1)\n",
        "y=df['LUNG_CANCER']\n",
        "print(x_test)\n",
        "x_train,x_test,y_train,y_test = train_test_split(x, y, test_size=0.25, random_state=42)\n",
        "clf=RandomForestClassifier(n_estimators=100)\n",
        "clf.fit(x_train,y_train)\n",
        "y_pred=clf.predict(x_test)\n",
        "print(y_pred)\n",
        "print(clf.score(x_test,y_test))"
      ],
      "metadata": {
        "colab": {
          "base_uri": "https://localhost:8080/"
        },
        "id": "z8cSfZNUKm6B",
        "outputId": "ad27b6c0-a713-44c7-b33a-cd7ed0da1a42"
      },
      "execution_count": null,
      "outputs": [
        {
          "output_type": "stream",
          "name": "stdout",
          "text": [
            "     GENDER  AGE  SMOKING  YELLOW_FINGERS  ANXIETY  PEER_PRESSURE  \\\n",
            "288       0   61        1               2        2              2   \n",
            "9         1   53        2               2        2              2   \n",
            "57        1   73        1               1        1              1   \n",
            "60        1   70        1               2        1              2   \n",
            "25        1   65        1               2        2              1   \n",
            "..      ...  ...      ...             ...      ...            ...   \n",
            "30        0   57        2               2        1              1   \n",
            "22        0   21        2               1        1              1   \n",
            "262       0   67        1               2        1              1   \n",
            "56        0   63        1               2        1              2   \n",
            "148       1   70        2               1        1              1   \n",
            "\n",
            "     CHRONIC DISEASE  FATIGUE   ALLERGY   WHEEZING  ALCOHOL CONSUMING  \\\n",
            "288                1         1         2         2                  1   \n",
            "9                  2         1         2         1                  2   \n",
            "57                 2         1         2         1                  2   \n",
            "60                 2         2         2         2                  2   \n",
            "25                 1         2         1         2                  2   \n",
            "..               ...       ...       ...       ...                ...   \n",
            "30                 1         1         1         1                  1   \n",
            "22                 2         2         2         1                  1   \n",
            "262                1         1         1         2                  1   \n",
            "56                 1         2         1         1                  1   \n",
            "148                1         2         2         2                  2   \n",
            "\n",
            "     COUGHING  SHORTNESS OF BREATH  SWALLOWING DIFFICULTY  CHEST PAIN  \n",
            "288         2                    1                      2           1  \n",
            "9           1                    1                      2           2  \n",
            "57          2                    2                      2           2  \n",
            "60          2                    1                      2           2  \n",
            "25          2                    2                      2           2  \n",
            "..        ...                  ...                    ...         ...  \n",
            "30          1                    2                      1           1  \n",
            "22          1                    2                      1           1  \n",
            "262         2                    2                      1           1  \n",
            "56          2                    2                      1           2  \n",
            "148         2                    2                      1           2  \n",
            "\n",
            "[78 rows x 15 columns]\n",
            "[2 2 2 2 2 2 2 2 2 2 2 2 2 2 2 2 2 2 2 2 1 2 2 2 2 2 2 2 2 2 2 2 2 2 2 2 2\n",
            " 2 2 2 2 2 2 2 2 2 2 2 1 2 2 2 2 2 2 2 2 2 2 2 2 2 2 2 2 2 2 2 2 2 2 2 2 1\n",
            " 1 1 2 2]\n",
            "0.9743589743589743\n"
          ]
        }
      ]
    },
    {
      "cell_type": "markdown",
      "source": [
        "4.knn"
      ],
      "metadata": {
        "id": "bKAsxybfLXmI"
      }
    },
    {
      "cell_type": "code",
      "source": [
        "import numpy as np\n",
        "import matplotlib.pyplot as plt\n",
        "import pandas as pd\n",
        "from sklearn.tree import DecisionTreeClassifier\n",
        "df = pd.read_csv('cancer.csv')\n",
        "x=df.drop('LUNG_CANCER',axis=1)\n",
        "y=df['LUNG_CANCER']\n",
        "x_train,x_test,y_train,y_test = train_test_split(x, y, test_size=0.25, random_state=42)\n",
        "clf.fit(x_train,y_train)\n",
        "y_pred=clf.predict(x_test)\n",
        "from sklearn.neighbors import KNeighborsClassifier\n",
        "classifier= KNeighborsClassifier(n_neighbors=5, metric='minkowski', p=2 )\n",
        "print(y_pred)\n",
        "print(clf.score(x_test,y_test))"
      ],
      "metadata": {
        "colab": {
          "base_uri": "https://localhost:8080/"
        },
        "id": "IB5rU4m0LfQf",
        "outputId": "4310fc86-86c6-4239-fcba-e9b5b4fc63fd"
      },
      "execution_count": null,
      "outputs": [
        {
          "output_type": "stream",
          "name": "stdout",
          "text": [
            "[2 2 2 2 2 2 2 2 2 2 2 2 2 2 2 2 2 2 2 2 1 2 2 2 2 2 2 2 2 2 2 2 2 2 2 2 2\n",
            " 2 2 2 2 2 2 2 2 2 2 2 1 2 2 2 2 2 2 2 2 2 2 2 2 2 2 2 2 2 2 2 2 2 2 2 2 1\n",
            " 1 1 2 2]\n",
            "0.9743589743589743\n"
          ]
        }
      ]
    },
    {
      "cell_type": "code",
      "source": [
        "#Import libraries\n",
        "import pandas as pd\n",
        "\n",
        "import matplotlib.pyplot as plt\n",
        "from sklearn.cluster import KMeans\n",
        "#import the dataset\n",
        "from sklearn import datasets\n",
        "df = pd.read_csv('cancer.csv')\n",
        "x = df.iloc[:, [0,1,2,3,4,5,6,7,8,9,10,11,12,13,14,15]].values\n",
        "kmeans5 = KMeans(n_clusters=3)\n",
        "y_kmeans5 = kmeans5.fit_predict(x)\n",
        "kmeans5.cluster_centers_\n",
        "plt.scatter(x[:,0],x[:,15],c=y_kmeans5,cmap='rainbow')"
      ],
      "metadata": {
        "colab": {
          "base_uri": "https://localhost:8080/",
          "height": 502
        },
        "id": "NsqwTDASkNmH",
        "outputId": "75bce066-406c-438c-c3aa-85f69ab55663"
      },
      "execution_count": null,
      "outputs": [
        {
          "output_type": "stream",
          "name": "stderr",
          "text": [
            "/usr/local/lib/python3.10/dist-packages/sklearn/cluster/_kmeans.py:870: FutureWarning: The default value of `n_init` will change from 10 to 'auto' in 1.4. Set the value of `n_init` explicitly to suppress the warning\n",
            "  warnings.warn(\n"
          ]
        },
        {
          "output_type": "execute_result",
          "data": {
            "text/plain": [
              "<matplotlib.collections.PathCollection at 0x7fde6fcef190>"
            ]
          },
          "metadata": {},
          "execution_count": 9
        },
        {
          "output_type": "display_data",
          "data": {
            "text/plain": [
              "<Figure size 640x480 with 1 Axes>"
            ],
            "image/png": "[encoded data removed]"
          },
          "metadata": {}
        }
      ]
    }
  ],
  "metadata": {
    "colab": {
      "provenance": []
    },
    "kernelspec": {
      "display_name": "Python 3",
      "name": "python3"
    }
  },
  "nbformat": 4,
  "nbformat_minor": 0
}